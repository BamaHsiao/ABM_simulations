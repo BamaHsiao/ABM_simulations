{
 "cells": [
  {
   "cell_type": "code",
   "execution_count": 96,
   "metadata": {},
   "outputs": [],
   "source": [
    "choices = ['Rock', 'Paper', 'Scissors', 'Lizard', 'Spock']\n",
    "payoffs = {\n",
    "    'Rock': 3, 'Paper': 2, 'Scissors': 1, 'Lizard': 4, 'Spock': 5\n",
    "}\n",
    "\n",
    "# Outcomes from the perspective of the first choice\n",
    "outcomes = {\n",
    "    ('Rock', 'Scissors'): 'win', ('Rock', 'Lizard'): 'win',\n",
    "    ('Paper', 'Rock'): 'win', ('Paper', 'Spock'): 'win',\n",
    "    ('Scissors', 'Paper'): 'win', ('Scissors', 'Lizard'): 'win',\n",
    "    ('Lizard', 'Spock'): 'win', ('Lizard', 'Paper'): 'win',\n",
    "    ('Spock', 'Scissors'): 'win', ('Spock', 'Rock'): 'win'\n",
    "}\n",
    "\n",
    "counter_moves = {\n",
    "    'Rock': ['Paper', 'Spock'], \n",
    "    'Paper': ['Scissors', 'Lizard'], \n",
    "    'Scissors': ['Rock', 'Spock'], \n",
    "    'Lizard': ['Rock', 'Scissors'], \n",
    "    'Spock': ['Paper', 'Lizard']\n",
    "}\n",
    "\n",
    "lose_moves = {\n",
    "    'Rock': ['Scissors', 'Lizard'], \n",
    "    'Paper': ['Rock', 'Spock'], \n",
    "    'Scissors': ['Paper', 'Lizard'], \n",
    "    'Lizard': ['Paper', 'Spock'], \n",
    "    'Spock': ['Scissors', 'Rock']\n",
    "}\n",
    "\n"
   ]
  },
  {
   "cell_type": "code",
   "execution_count": null,
   "metadata": {},
   "outputs": [],
   "source": []
  },
  {
   "cell_type": "code",
   "execution_count": 117,
   "metadata": {},
   "outputs": [],
   "source": [
    "# Example for a Random Strategy\n",
    "import random\n",
    "import pandas as pd\n",
    "\n",
    "class Strategy:\n",
    "    def next_move(self, history):\n",
    "        raise NotImplementedError\n",
    "\n",
    "class RandomStrategy(Strategy):\n",
    "    def next_move(self, history):\n",
    "        return random.choice(choices)\n",
    "\n",
    "class FixedStrategy(Strategy):\n",
    "    def __init__(self, idx=4):\n",
    "        self.choices = ['Rock', 'Paper', 'Scissors', 'Lizard', 'Spock']\n",
    "        self.move = self.choices[idx]\n",
    "    \n",
    "    def next_move(self, history):\n",
    "        # Randomly choose between Lizard and Spock\n",
    "        return self.move\n",
    "\n",
    "class CopyStrategy(Strategy):\n",
    "    def __init__(self, player_1_2=1):\n",
    "        self.player = player_1_2\n",
    "    def next_move(self, history):\n",
    "        # If it's the first move, choose randomly\n",
    "        if not history:\n",
    "            return random.choice(choices)\n",
    "        # Otherwise, copy the opponent's last move\n",
    "        else:\n",
    "            # history[-1][1] refers to the opponent's last move\n",
    "            if self.player == 1: return history[-1][1]\n",
    "            return history[-1][0]\n",
    "\n"
   ]
  },
  {
   "cell_type": "code",
   "execution_count": 98,
   "metadata": {},
   "outputs": [],
   "source": [
    "class AdaptiveStrategy(Strategy):\n",
    "    def __init__(self, player_1_2=1, memory_length=10):\n",
    "        self.player = player_1_2\n",
    "        self.memory_length = memory_length\n",
    "    \n",
    "    def next_move(self, history):\n",
    "        # If it's the first move, or no history is available, choose randomly\n",
    "        if not history:\n",
    "            return random.choice(choices)\n",
    "        \n",
    "        # Count the frequency of the opponent's moves\n",
    "        if self.player==1:\n",
    "            opponent_moves = [it[1] for it in history]\n",
    "        else:\n",
    "            opponent_moves = [it[0] for it in history]\n",
    "        if len(opponent_moves)>self.memory_length:\n",
    "            opponent_moves = opponent_moves[-self.memory_length:]\n",
    "        move_frequency = {move: opponent_moves.count(move) for move in choices}\n",
    "        \n",
    "        # Find the opponent's most frequent move\n",
    "        most_frequent_move = max(move_frequency, key=move_frequency.get)\n",
    "        \n",
    "        # Based on the opponent's most frequent move, decide our move\n",
    "        # The strategy here is to beat the most frequent move of the opponent\n",
    "\n",
    "        return random.choice( counter_moves[most_frequent_move] )"
   ]
  },
  {
   "cell_type": "code",
   "execution_count": 99,
   "metadata": {},
   "outputs": [],
   "source": [
    "class TryToLoseStrategy(Strategy):\n",
    "    def __init__(self, player_1_2=1, memory_length=10):\n",
    "        self.player = player_1_2\n",
    "        self.memory_length = memory_length\n",
    "\n",
    "    def next_move(self, history):\n",
    "        # If it's the first move, or no history is available, choose randomly\n",
    "        if not history:\n",
    "            return random.choice(choices)\n",
    "        \n",
    "        # Determine the opponent's moves based on perspective\n",
    "        if self.player == 1:\n",
    "            opponent_moves = [it[1] for it in history]\n",
    "        else:\n",
    "            opponent_moves = [it[0] for it in history]\n",
    "        \n",
    "        # Limit the memory to the most recent moves if necessary\n",
    "        if len(opponent_moves) > self.memory_length:\n",
    "            opponent_moves = opponent_moves[-self.memory_length:]\n",
    "        \n",
    "        # Count the frequency of the opponent's moves\n",
    "        move_frequency = {move: opponent_moves.count(move) for move in choices}\n",
    "        \n",
    "        # Find the opponent's most frequent move\n",
    "        most_frequent_move = max(move_frequency, key=move_frequency.get)\n",
    "        \n",
    "        return random.choice( lose_moves[most_frequent_move] )\n"
   ]
  },
  {
   "cell_type": "code",
   "execution_count": 100,
   "metadata": {},
   "outputs": [],
   "source": [
    "def simulate_round(strategy1, strategy2, history):\n",
    "    move1 = strategy1.next_move(history)\n",
    "    move2 = strategy2.next_move(history)\n",
    "    # Determine outcome and update scores\n",
    "    if (move1, move2) in outcomes: \n",
    "        return move1, move2, +payoffs[move1], -payoffs[move2]\n",
    "    elif move1 == move2:\n",
    "        return move1, move2, 0, 0\n",
    "    else:\n",
    "        return move1, move2, -payoffs[move1], +payoffs[move2] \n",
    "\n",
    "def run_simulation(strategy1, strategy2, num_rounds=100):\n",
    "    history = []\n",
    "    scores = [0, 0]  # [strategy1_score, strategy2_score]\n",
    "    for _ in range(num_rounds):\n",
    "        m1, m2, s1, s2 = simulate_round(strategy1, strategy2, history)\n",
    "        scores[0] += s1\n",
    "        scores[1] += s2\n",
    "        history.append( (m1, m2, s1, s2) )\n",
    "        # Update history and scores\n",
    "    return history, scores \n"
   ]
  },
  {
   "cell_type": "markdown",
   "metadata": {},
   "source": [
    "## Simulations"
   ]
  },
  {
   "cell_type": "markdown",
   "metadata": {},
   "source": [
    "### random vs any others\n",
    "\n",
    "- random vs all fixed: expected points (???:0)\n",
    "\n",
    "\n"
   ]
  },
  {
   "cell_type": "code",
   "execution_count": 119,
   "metadata": {},
   "outputs": [
    {
     "data": {
      "text/plain": [
       "([99, 1, 0], 387.91, 30.75, 76.93025767183252, 145.58550370448594)"
      ]
     },
     "execution_count": 119,
     "metadata": {},
     "output_type": "execute_result"
    }
   ],
   "source": [
    "total = [0, 0, 0]\n",
    "player1_scores, player2_scores = [], []\n",
    "for times in range(100):\n",
    "       num_rounds = 1000\n",
    "       lst = [\n",
    "              (\"FixedStrategy\", FixedStrategy()), \n",
    "              (\"CopyStrategy\", CopyStrategy(2)), \n",
    "              (\"AdaptiveStrategy\", AdaptiveStrategy(2, num_rounds)),\n",
    "              (\"TryToLoseStrategy\", TryToLoseStrategy(2, num_rounds))\n",
    "              ]\n",
    "       strategy1 = RandomStrategy()\n",
    "       (name, strategy2) = lst[0]\n",
    "       #print( \"RandomStrategy vs\", name )\n",
    "       history, scores = run_simulation(strategy1, strategy2, num_rounds)\n",
    "       #print(\"scores: player 1 vs player 2, \", scores)\n",
    "       if scores[0]>scores[1]: total[0] += 1\n",
    "       elif scores[0]<scores[1]: total[1] += 1\n",
    "       else: total[2] += 1\n",
    "       player1_scores.append( scores[0] )\n",
    "       player2_scores.append( scores[1] )\n",
    "df = pd.DataFrame()\n",
    "df[ 'score1' ] = player1_scores\n",
    "df[ 'score2' ] = player2_scores\n",
    "total, df['score1'].mean(), df['score2'].mean(), df['score1'].std(), df['score2'].std() "
   ]
  },
  {
   "cell_type": "markdown",
   "metadata": {},
   "source": [
    "### fixed vs the rest\n",
    "\n",
    "- fixed vs copy: degrade to 1 round"
   ]
  },
  {
   "cell_type": "code",
   "execution_count": 102,
   "metadata": {},
   "outputs": [
    {
     "data": {
      "text/plain": [
       "[1000, 0, 0]"
      ]
     },
     "execution_count": 102,
     "metadata": {},
     "output_type": "execute_result"
    }
   ],
   "source": [
    "total = [0, 0, 0]\n",
    "player1_scores, player2_scores = [], []\n",
    "for times in range(1000):\n",
    "       num_rounds = 100\n",
    "       lst = [\n",
    "              (\"CopyStrategy\", CopyStrategy(2)), \n",
    "              (\"AdaptiveStrategy\", AdaptiveStrategy(2, num_rounds)),\n",
    "              (\"TryToLoseStrategy\", TryToLoseStrategy(2, num_rounds))\n",
    "              ]\n",
    "       strategy1 = FixedStrategy()\n",
    "       (name, strategy2) = lst[2]\n",
    "       #print( \"RandomStrategy vs\", name )\n",
    "       history, scores = run_simulation(strategy1, strategy2, num_rounds)\n",
    "       #print(\"scores: player 1 vs player 2, \", scores)\n",
    "       if scores[0]>scores[1]: total[0] += 1\n",
    "       elif scores[0]<scores[1]: total[1] += 1\n",
    "       else: total[2] += 1\n",
    "       player1_scores.append( scores[0] )\n",
    "       player2_scores.append( scores[1] )\n",
    "df = pd.DataFrame()\n",
    "df[ 'score1' ] = player1_scores\n",
    "df[ 'score2' ] = player2_scores\n",
    "total, df['score1'].mean(), df['score2'].mean(), df['score1'].std(), df['score2'].std() "
   ]
  },
  {
   "cell_type": "markdown",
   "metadata": {},
   "source": [
    "### Copy vs the rest"
   ]
  },
  {
   "cell_type": "code",
   "execution_count": 103,
   "metadata": {},
   "outputs": [
    {
     "data": {
      "text/plain": [
       "[954, 40, 6]"
      ]
     },
     "execution_count": 103,
     "metadata": {},
     "output_type": "execute_result"
    }
   ],
   "source": [
    "total = [0, 0, 0]\n",
    "player1_scores, player2_scores = [], []\n",
    "for times in range(1000):\n",
    "       num_rounds = 100\n",
    "       lst = [ \n",
    "              (\"AdaptiveStrategy\", AdaptiveStrategy(2, num_rounds)),\n",
    "              (\"TryToLoseStrategy\", TryToLoseStrategy(2, num_rounds))\n",
    "              ]\n",
    "       strategy1 = CopyStrategy(1)\n",
    "       (name, strategy2) = lst[1]\n",
    "       #print( \"RandomStrategy vs\", name )\n",
    "       history, scores = run_simulation(strategy1, strategy2, num_rounds)\n",
    "       #print(\"scores: player 1 vs player 2, \", scores)\n",
    "       if scores[0]>scores[1]: total[0] += 1\n",
    "       elif scores[0]<scores[1]: total[1] += 1\n",
    "       else: total[2] += 1\n",
    "       player1_scores.append( scores[0] )\n",
    "       player2_scores.append( scores[1] )\n",
    "df = pd.DataFrame()\n",
    "df[ 'score1' ] = player1_scores\n",
    "df[ 'score2' ] = player2_scores\n",
    "total, df['score1'].mean(), df['score2'].mean(), df['score1'].std(), df['score2'].std() "
   ]
  },
  {
   "cell_type": "markdown",
   "metadata": {},
   "source": [
    "### Adaptive vs Try to lose"
   ]
  },
  {
   "cell_type": "code",
   "execution_count": 104,
   "metadata": {},
   "outputs": [
    {
     "data": {
      "text/plain": [
       "[1000, 0, 0]"
      ]
     },
     "execution_count": 104,
     "metadata": {},
     "output_type": "execute_result"
    }
   ],
   "source": [
    "total = [0, 0, 0]\n",
    "player1_scores, player2_scores = [], []\n",
    "for times in range(1000):\n",
    "       num_rounds = 100\n",
    "       lst = [ \n",
    "              (\"TryToLoseStrategy\", TryToLoseStrategy(2, num_rounds))\n",
    "              ]\n",
    "       strategy1 = AdaptiveStrategy(1, num_rounds)\n",
    "       (name, strategy2) = lst[0]\n",
    "       #print( \"RandomStrategy vs\", name )\n",
    "       history, scores = run_simulation(strategy1, strategy2, num_rounds)\n",
    "       #print(\"scores: player 1 vs player 2, \", scores)\n",
    "       if scores[0]>scores[1]: total[0] += 1\n",
    "       elif scores[0]<scores[1]: total[1] += 1\n",
    "       else: total[2] += 1\n",
    "       player1_scores.append( scores[0] )\n",
    "       player2_scores.append( scores[1] )\n",
    "df = pd.DataFrame()\n",
    "df[ 'score1' ] = player1_scores\n",
    "df[ 'score2' ] = player2_scores\n",
    "total, df['score1'].mean(), df['score2'].mean(), df['score1'].std(), df['score2'].std() "
   ]
  },
  {
   "cell_type": "markdown",
   "metadata": {},
   "source": [
    "### Long vs Short Memory\n",
    "- why short wins?"
   ]
  },
  {
   "cell_type": "code",
   "execution_count": 113,
   "metadata": {},
   "outputs": [
    {
     "data": {
      "text/plain": [
       "([473, 521, 6], -0.567, 3.056, 30.95761432805966, 31.276494098333384)"
      ]
     },
     "execution_count": 113,
     "metadata": {},
     "output_type": "execute_result"
    }
   ],
   "source": [
    "total = [0, 0, 0]\n",
    "player1_scores, player2_scores = [], []\n",
    "for times in range(1000):\n",
    "       num_rounds = 100\n",
    "       lst = [ \n",
    "              (\"AdaptiveStrategy\", AdaptiveStrategy(2, 50))\n",
    "              ]\n",
    "       strategy1 = AdaptiveStrategy(1, num_rounds)\n",
    "       (name, strategy2) = lst[0]\n",
    "       #print( \"RandomStrategy vs\", name )\n",
    "       history, scores = run_simulation(strategy1, strategy2, num_rounds)\n",
    "       #print(\"scores: player 1 vs player 2, \", scores)\n",
    "       if scores[0]>scores[1]: total[0] += 1\n",
    "       elif scores[0]<scores[1]: total[1] += 1\n",
    "       else: total[2] += 1\n",
    "       player1_scores.append( scores[0] )\n",
    "       player2_scores.append( scores[1] )\n",
    "df = pd.DataFrame()\n",
    "df[ 'score1' ] = player1_scores\n",
    "df[ 'score2' ] = player2_scores\n",
    "total, df['score1'].mean(), df['score2'].mean(), df['score1'].std(), df['score2'].std()"
   ]
  },
  {
   "cell_type": "code",
   "execution_count": 78,
   "metadata": {},
   "outputs": [
    {
     "data": {
      "text/plain": [
       "(Counter({'Rock': 53, 'Spock': 39, 'Scissors': 7, 'Paper': 1}),\n",
       " Counter({'Scissors': 51, 'Lizard': 48, 'Spock': 1}))"
      ]
     },
     "execution_count": 78,
     "metadata": {},
     "output_type": "execute_result"
    }
   ],
   "source": [
    "import collections\n",
    "dic1 = collections.Counter(list(map(lambda x:x[0], history)))\n",
    "dic2 = collections.Counter(list(map(lambda x:x[1], history)))\n",
    "dic1, dic2"
   ]
  },
  {
   "cell_type": "code",
   "execution_count": null,
   "metadata": {},
   "outputs": [],
   "source": []
  }
 ],
 "metadata": {
  "kernelspec": {
   "display_name": "Python 3",
   "language": "python",
   "name": "python3"
  },
  "language_info": {
   "codemirror_mode": {
    "name": "ipython",
    "version": 3
   },
   "file_extension": ".py",
   "mimetype": "text/x-python",
   "name": "python",
   "nbconvert_exporter": "python",
   "pygments_lexer": "ipython3",
   "version": "3.11.7"
  }
 },
 "nbformat": 4,
 "nbformat_minor": 2
}
