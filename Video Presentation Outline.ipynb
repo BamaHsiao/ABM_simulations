{
 "cells": [
  {
   "cell_type": "markdown",
   "id": "930e777f-98bf-40ed-907a-596ceed9b84a",
   "metadata": {},
   "source": [
    "# Video Presentation Outline"
   ]
  },
  {
   "cell_type": "markdown",
   "id": "d8cdb409-d3ec-470c-8dab-4b88e4317625",
   "metadata": {},
   "source": [
    "### Introduction (2 mins)\n",
    "- Game Design\n",
    "  - e.g. Why 1000 rounds?\n",
    "  - e.g. Show the Random vs Random animation (explain labels) to introduce how our game works\n",
    "- Strategy\n",
    "  - e.g. Explain meaning of different strategies\n",
    "\n",
    "### Simulation Settings (3 mins)\n",
    "- Combinations of different strategies\n",
    "  -  10 combinations\n",
    "- Additional Comparisons\n",
    "  -  Fixed_high_payoff vs Fixed_low_payoff\n",
    "  -  Long/Short Memory in Adaptive Strategies\n",
    "  -  Random vs Each Fixed Strategy"
   ]
  },
  {
   "cell_type": "markdown",
   "id": "24296c61-d5c1-4290-a15c-24e34c8714e3",
   "metadata": {},
   "source": [
    "### Simulation Outcomes (4 mins)\n",
    "- Explain the labels& features of different charts and animations\n",
    "- Explain the normal findings\n",
    "  -  Show the bar chart for winning rate of different strategies\n",
    "  -  Show the stabilities of strategies\n",
    "- Explain the main findings\n",
    "  -  Show the animation of Fixed_high_payoff vs Fixed_low_payoff\n",
    "     -  Explain ?\n",
    "  -  Show the animation of Q-Learning\n",
    "     -  Explain ?\n",
    "  -  Show the animation of Long(all)/Short(10) Memory in Adaptive Strategies\n",
    "     -  Explain frequency, patterns, and changes in strategy over time.\n",
    "  -  Show the animation of Random vs Fixed Strategy(Spock, Lizard)\n",
    "     -  Random would be better than Spock, and Lizard would be better than Random\n",
    "     -  Can refer to the Markdown of Simulation Report.ipynb\n",
    "     -  Explain how the actual results match our mathematical&statistical formula proof  \n",
    "     "
   ]
  },
  {
   "cell_type": "markdown",
   "id": "f36fde80-c32b-4feb-b0f7-5155f1d4726e",
   "metadata": {},
   "source": [
    "### Conclusion and Application Domain (1 min_ Optional)\n",
    "- Domain: Behavioral Economics, Education"
   ]
  }
 ],
 "metadata": {
  "kernelspec": {
   "display_name": "Python 3 (ipykernel)",
   "language": "python",
   "name": "python3"
  },
  "language_info": {
   "codemirror_mode": {
    "name": "ipython",
    "version": 3
   },
   "file_extension": ".py",
   "mimetype": "text/x-python",
   "name": "python",
   "nbconvert_exporter": "python",
   "pygments_lexer": "ipython3",
   "version": "3.10.13"
  }
 },
 "nbformat": 4,
 "nbformat_minor": 5
}
