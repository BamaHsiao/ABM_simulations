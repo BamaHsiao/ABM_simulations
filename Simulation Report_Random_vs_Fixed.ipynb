{
 "cells": [
  {
   "cell_type": "markdown",
   "id": "9adf910a-a186-4c75-b003-5e0203f04e6b",
   "metadata": {},
   "source": [
    "# Strategy Comparison: Fixed vs Random in Extended Rock, Paper, Scissors, Lizard, Spock Game\n",
    "\n",
    "This document provides a detailed analysis of expected payoffs for fixed strategies against a random strategy over 1,000 rounds in the extended Rock, Paper, Scissors, Lizard, Spock game. Each fixed strategy consistently chooses one move, while the random strategy selects moves with equal probability.\n",
    "\n",
    "## Payoff Rules Summary\n",
    "\n",
    "- Rock defeats Scissors and Lizard; +3 for a win, -3 for a loss\n",
    "- Paper defeats Rock and Spock; +2 for a win, -2 for a loss\n",
    "- Scissors defeats Paper and Lizard; +1 for a win, -1 for a loss\n",
    "- Lizard defeats Spock and Paper; +4 for a win, -4 for a loss\n",
    "- Spock defeats Scissors and Rock; +5 for a win, -5 for a loss\n",
    "\n",
    "## Expected Payoffs\n",
    "\n",
    "### Random vs Rock\n",
    "\n",
    "#### Fixed Strategy (Rock)\n",
    "$E(Rock) = (0 \\cdot \\frac{1}{5} + (-3) \\cdot \\frac{1}{5} + 3 \\cdot \\frac{1}{5} + 3 \\cdot \\frac{1}{5} + (-3) \\cdot \\frac{1}{5}) \\times 1000 = 0$\n",
    "\n",
    "#### Random Strategy\n",
    "$E(Random) = (0 \\cdot \\frac{1}{5} + 2 \\cdot \\frac{1}{5} + (-1) \\cdot \\frac{1}{5} + (-4) \\cdot \\frac{1}{5} + 5 \\cdot \\frac{1}{5}) \\times 1000 = 400$\n",
    "\n",
    "### Random vs Paper\n",
    "\n",
    "#### Fixed Strategy (Paper)\n",
    "$E(Paper) = (2 \\cdot \\frac{1}{5} + 0 \\cdot \\frac{1}{5} + (-2) \\cdot \\frac{1}{5} + (-2) \\cdot \\frac{1}{5} + 2 \\cdot \\frac{1}{5}) \\times 1000 = 0$\n",
    "\n",
    "#### Random Strategy\n",
    "$E(Random) = ((-3) \\cdot \\frac{1}{5} + 0 \\cdot \\frac{1}{5} + 1 \\cdot \\frac{1}{5} + 4 \\cdot \\frac{1}{5} + (-5) \\cdot \\frac{1}{5}) \\times 1000 = -600$\n",
    "\n",
    "### Random vs Scissors\n",
    "\n",
    "#### Fixed Strategy (Scissors)\n",
    "\n",
    "$E(Scissors) = ((-1) \\cdot \\frac{1}{5} + 1 \\cdot \\frac{1}{5} + 0 \\cdot \\frac{1}{5} + 1 \\cdot \\frac{1}{5} + (-1) \\cdot \\frac{1}{5}) \\times 1000 = 0$\n",
    "\n",
    "#### Random Strategy\n",
    "$E(Random) = (3 \\cdot \\frac{1}{5} + (-2) \\cdot \\frac{1}{5} + 0 \\cdot \\frac{1}{5} + (-4) \\cdot \\frac{1}{5} + 5 \\cdot \\frac{1}{5}) \\times 1000 = 400$\n",
    "\n",
    "### Random vs Lizard\n",
    "\n",
    "#### Fixed Strategy (Lizard)\n",
    "\n",
    "$E(Lizard) = ((-4) \\cdot \\frac{1}{5} + 4 \\cdot \\frac{1}{5} + (-4) \\cdot \\frac{1}{5} + 0 \\cdot \\frac{1}{5} + 4 \\cdot \\frac{1}{5}) \\times 1000 = 0$\n",
    "\n",
    "#### Random Strategy\n",
    "$E(Random) = (3 \\cdot \\frac{1}{5} + (-2) \\cdot \\frac{1}{5} + 1 \\cdot \\frac{1}{5} + 0 \\cdot \\frac{1}{5} + (-5) \\cdot \\frac{1}{5}) \\times 1000 = -600$\n",
    "\n",
    "### Random vs Spock\n",
    "\n",
    "#### Fixed Strategy (Spock)\n",
    "$E(Spock) = (5 \\cdot \\frac{1}{5} + (-5) \\cdot \\frac{1}{5} + 5 \\cdot \\frac{1}{5} + (-5) \\cdot \\frac{1}{5} + 0 \\cdot \\frac{1}{5}) \\times 1000 = 0$\n",
    "\n",
    "#### Random Strategy\n",
    "$E(Random) = (-3 \\cdot \\frac{1}{5} + 2 \\cdot \\frac{1}{5} + (-1) \\cdot \\frac{1}{5} + 4 \\cdot \\frac{1}{5} + 0 \\cdot \\frac{1}{5}) \\times 1000 = 400$\n",
    "\n",
    "## Conclusion\n",
    "\n",
    "In conclusion, the analysis of expected payoffs in the extended Rock, Paper, Scissors, Lizard, Spock game reveals a clear strategic pattern when facing a random strategy. Specifically, adopting fixed strategies of Paper and Lizard proves advantageous, as these strategies lead to a neutral expected payoff, effectively countering the randomness with their inherent payoff advantages in the game's structure. On the contrary, fixed strategies of Rock, Scissors, and Spock tend to underperform against a random approach, as indicated by their negative expected outcomes. This pattern suggests that in the face of randomness, strategies that inherently counter the wide range of possible moves—such as Paper and Lizard—offer a more robust defense than those that do not. This insight not only contributes to the strategic understanding of this extended game but also underscores the importance of selecting strategies that align with the specific dynamics and potential unpredictability of the opponent's moves."
   ]
  },
  {
   "cell_type": "markdown",
   "id": "21a32301-bf36-44b4-b958-d6c9d5f29d61",
   "metadata": {},
   "source": [
    "#### HighestFixed vs Random \n",
    "\n",
    "$(((-4) \\cdot \\frac{1}{5} + 4 \\cdot \\frac{1}{5} + (-4) \\cdot \\frac{1}{5} + 0 \\cdot \\frac{1}{5} + 4 \\cdot \\frac{1}{5}) \\cdot \\frac{1}{2} + (5 \\cdot \\frac{1}{5} + (-5) \\cdot \\frac{1}{5} + 5 \\cdot \\frac{1}{5} + (-5) \\cdot \\frac{1}{5} + 0 \\cdot \\frac{1}{5})\\cdot \\frac{1}{2})\\times 1000 = 0$\n",
    "\n",
    "$((3 \\cdot \\frac{1}{5} + (-2) \\cdot \\frac{1}{5} + 1 \\cdot \\frac{1}{5} + 0 \\cdot \\frac{1}{5} + (-5) \\cdot \\frac{1}{5}) \\cdot \\frac{1}{2} + (-3 \\cdot \\frac{1}{5} + 2 \\cdot \\frac{1}{5} + (-1) \\cdot \\frac{1}{5} + 4 \\cdot \\frac{1}{5} + 0 \\cdot \\frac{1}{5})\\cdot \\frac{1}{2})\\times 1000 = -100$"
   ]
  }
 ],
 "metadata": {
  "kernelspec": {
   "display_name": "Python 3 (ipykernel)",
   "language": "python",
   "name": "python3"
  },
  "language_info": {
   "codemirror_mode": {
    "name": "ipython",
    "version": 3
   },
   "file_extension": ".py",
   "mimetype": "text/x-python",
   "name": "python",
   "nbconvert_exporter": "python",
   "pygments_lexer": "ipython3",
   "version": "3.11.7"
  }
 },
 "nbformat": 4,
 "nbformat_minor": 5
}
